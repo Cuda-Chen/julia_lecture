{
 "cells": [
  {
   "cell_type": "markdown",
   "metadata": {},
   "source": [
    "# Factorizations and other fun\n",
    "Based on work by Andreas Noack\n",
    "\n",
    "## Outline\n",
    "- Factorizations\n",
    "- Special matrix structures\n",
    "- Generic linear algebra"
   ]
  },
  {
   "cell_type": "markdown",
   "metadata": {},
   "source": [
    "Before we get started, let's set up a linear system and use `LinearAlgebra` to bring in \n",
    "the factorizations and special matrix structures."
   ]
  },
  {
   "cell_type": "code",
   "execution_count": 1,
   "metadata": {},
   "outputs": [
    {
     "data": {
      "text/plain": [
       "3-element Array{Float64,1}:\n",
       " 0.4606327857425021\n",
       " 1.1941853669672986\n",
       " 1.037874155200157"
      ]
     },
     "execution_count": 1,
     "metadata": {},
     "output_type": "execute_result"
    }
   ],
   "source": [
    "using LinearAlgebra\n",
    "A = rand(3, 3)\n",
    "x = fill(1, (3,))\n",
    "b = A * x"
   ]
  },
  {
   "cell_type": "markdown",
   "metadata": {},
   "source": [
    "## Factorizations\n",
    "\n",
    "#### LU factorizations\n",
    "In Julia we can perform an LU factorization\n",
    "```julia\n",
    "PA = LU\n",
    "```\n",
    "where `P` is a permutation matrix, `L` is lower triangular unit diagonal and `U` is uppser\n",
    "triangular, using `lufact`.\n",
    "\n",
    "Julia allows computing the LU factorization and defines a composite factorization type for\n",
    "storing it."
   ]
  },
  {
   "cell_type": "code",
   "execution_count": 2,
   "metadata": {},
   "outputs": [
    {
     "data": {
      "text/plain": [
       "LU{Float64,Array{Float64,2}}\n",
       "L factor:\n",
       "3×3 Array{Float64,2}:\n",
       " 1.0       0.0        0.0\n",
       " 0.135944  1.0        0.0\n",
       " 0.117214  0.0942968  1.0\n",
       "U factor:\n",
       "3×3 Array{Float64,2}:\n",
       " 0.440834  0.223195  0.530157\n",
       " 0.0       0.786701  0.0888301\n",
       " 0.0       0.0       0.238097"
      ]
     },
     "execution_count": 2,
     "metadata": {},
     "output_type": "execute_result"
    }
   ],
   "source": [
    "Alu = lu(A)"
   ]
  },
  {
   "cell_type": "code",
   "execution_count": 3,
   "metadata": {},
   "outputs": [
    {
     "data": {
      "text/plain": [
       "LU{Float64,Array{Float64,2}}"
      ]
     },
     "execution_count": 3,
     "metadata": {},
     "output_type": "execute_result"
    }
   ],
   "source": [
    "typeof(Alu)"
   ]
  },
  {
   "cell_type": "markdown",
   "metadata": {},
   "source": [
    "The different parts of the factorization can be extracted by accessing their special\n",
    "properties"
   ]
  },
  {
   "cell_type": "code",
   "execution_count": 4,
   "metadata": {},
   "outputs": [
    {
     "data": {
      "text/plain": [
       "3×3 Array{Float64,2}:\n",
       " 0.0  1.0  0.0\n",
       " 0.0  0.0  1.0\n",
       " 1.0  0.0  0.0"
      ]
     },
     "execution_count": 4,
     "metadata": {},
     "output_type": "execute_result"
    }
   ],
   "source": [
    "Alu.P"
   ]
  },
  {
   "cell_type": "code",
   "execution_count": 5,
   "metadata": {},
   "outputs": [
    {
     "data": {
      "text/plain": [
       "3×3 Array{Float64,2}:\n",
       " 1.0       0.0        0.0\n",
       " 0.135944  1.0        0.0\n",
       " 0.117214  0.0942968  1.0"
      ]
     },
     "execution_count": 5,
     "metadata": {},
     "output_type": "execute_result"
    }
   ],
   "source": [
    "Alu.L"
   ]
  },
  {
   "cell_type": "code",
   "execution_count": 6,
   "metadata": {},
   "outputs": [
    {
     "data": {
      "text/plain": [
       "3×3 Array{Float64,2}:\n",
       " 0.440834  0.223195  0.530157\n",
       " 0.0       0.786701  0.0888301\n",
       " 0.0       0.0       0.238097"
      ]
     },
     "execution_count": 6,
     "metadata": {},
     "output_type": "execute_result"
    }
   ],
   "source": [
    "Alu.U"
   ]
  },
  {
   "cell_type": "markdown",
   "metadata": {},
   "source": [
    "JUlia can dispatch methods on factorization objects.\n",
    "\n",
    "For example, we can solve the linear system using either the original matrix or the \n",
    "factorization object."
   ]
  },
  {
   "cell_type": "code",
   "execution_count": 7,
   "metadata": {},
   "outputs": [
    {
     "data": {
      "text/plain": [
       "3-element Array{Float64,1}:\n",
       " 1.0000000000000002\n",
       " 1.0\n",
       " 0.9999999999999999"
      ]
     },
     "execution_count": 7,
     "metadata": {},
     "output_type": "execute_result"
    }
   ],
   "source": [
    "A\\b"
   ]
  },
  {
   "cell_type": "code",
   "execution_count": 8,
   "metadata": {},
   "outputs": [
    {
     "data": {
      "text/plain": [
       "3-element Array{Float64,1}:\n",
       " 1.0000000000000002\n",
       " 1.0\n",
       " 0.9999999999999999"
      ]
     },
     "execution_count": 8,
     "metadata": {},
     "output_type": "execute_result"
    }
   ],
   "source": [
    "Alu\\b"
   ]
  },
  {
   "cell_type": "markdown",
   "metadata": {},
   "source": [
    "Similarly, we can calculate the determinant of `A` using either `A` or the factorization\n",
    "object"
   ]
  },
  {
   "cell_type": "code",
   "execution_count": 10,
   "metadata": {},
   "outputs": [
    {
     "data": {
      "text/plain": [
       "true"
      ]
     },
     "execution_count": 10,
     "metadata": {},
     "output_type": "execute_result"
    }
   ],
   "source": [
    "det(A) ≈ det(Alu)"
   ]
  },
  {
   "cell_type": "markdown",
   "metadata": {},
   "source": [
    "#### QR factorizations\n",
    "\n",
    "In Julia we can perform a QR factorization\n",
    "```\n",
    "A=QR\n",
    "```\n",
    "\n",
    "where `Q` is unitary/orthogonal and `R` is upper triangular, using `qrfact`."
   ]
  },
  {
   "cell_type": "code",
   "execution_count": 11,
   "metadata": {},
   "outputs": [
    {
     "data": {
      "text/plain": [
       "LinearAlgebra.QRCompactWY{Float64,Array{Float64,2}}\n",
       "Q factor:\n",
       "3×3 LinearAlgebra.QRCompactWYQ{Float64,Array{Float64,2}}:\n",
       " -0.11537    0.0780759  -0.990249\n",
       " -0.984269  -0.143274    0.103377\n",
       " -0.133806   0.986599    0.0933773\n",
       "R factor:\n",
       "3×3 Array{Float64,2}:\n",
       " -0.447879  -0.340586  -0.578951\n",
       "  0.0        0.78195    0.106883\n",
       "  0.0        0.0       -0.235776"
      ]
     },
     "execution_count": 11,
     "metadata": {},
     "output_type": "execute_result"
    }
   ],
   "source": [
    "Aqr = qr(A)"
   ]
  },
  {
   "cell_type": "markdown",
   "metadata": {},
   "source": [
    "Similarly to the LU factorization, the matrices `Q` and`R` can be extracted from the QR\n",
    "factorizatio object via"
   ]
  },
  {
   "cell_type": "code",
   "execution_count": 12,
   "metadata": {},
   "outputs": [
    {
     "data": {
      "text/plain": [
       "3×3 LinearAlgebra.QRCompactWYQ{Float64,Array{Float64,2}}:\n",
       " -0.11537    0.0780759  -0.990249\n",
       " -0.984269  -0.143274    0.103377\n",
       " -0.133806   0.986599    0.0933773"
      ]
     },
     "execution_count": 12,
     "metadata": {},
     "output_type": "execute_result"
    }
   ],
   "source": [
    "Aqr.Q"
   ]
  },
  {
   "cell_type": "code",
   "execution_count": 13,
   "metadata": {},
   "outputs": [
    {
     "data": {
      "text/plain": [
       "3×3 Array{Float64,2}:\n",
       " -0.447879  -0.340586  -0.578951\n",
       "  0.0        0.78195    0.106883\n",
       "  0.0        0.0       -0.235776"
      ]
     },
     "execution_count": 13,
     "metadata": {},
     "output_type": "execute_result"
    }
   ],
   "source": [
    "Aqr.R"
   ]
  },
  {
   "cell_type": "markdown",
   "metadata": {},
   "source": [
    "#### Eigendecompositions"
   ]
  },
  {
   "cell_type": "markdown",
   "metadata": {},
   "source": [
    "The results from eigendecompositions, singular value decompositions, Hessenberg\n",
    "factorizations, and Schur decompositions are all stored in `Factorization` types.\n",
    "\n",
    "The eigendecomposition can be computed"
   ]
  },
  {
   "cell_type": "code",
   "execution_count": 17,
   "metadata": {},
   "outputs": [
    {
     "data": {
      "text/plain": [
       "Eigen{Float64,Float64,Array{Float64,2},Array{Float64,1}}\n",
       "values:\n",
       "3-element Array{Float64,1}:\n",
       " -0.9769434234784926\n",
       " -0.10966861215134172\n",
       "  1.9581497766666025\n",
       "vectors:\n",
       "3×3 Array{Float64,2}:\n",
       "  0.114894   0.93715   0.329469\n",
       " -0.705558  -0.156486  0.691159\n",
       "  0.699277  -0.311869  0.643234"
      ]
     },
     "execution_count": 17,
     "metadata": {},
     "output_type": "execute_result"
    }
   ],
   "source": [
    "Asym = A + A'\n",
    "AsymEig = eigen(Asym)"
   ]
  },
  {
   "cell_type": "markdown",
   "metadata": {},
   "source": [
    "The values and the vectors can be extracted from the Eigen type by special indexing"
   ]
  },
  {
   "cell_type": "code",
   "execution_count": 18,
   "metadata": {},
   "outputs": [
    {
     "data": {
      "text/plain": [
       "3-element Array{Float64,1}:\n",
       " -0.9769434234784926\n",
       " -0.10966861215134172\n",
       "  1.9581497766666025"
      ]
     },
     "execution_count": 18,
     "metadata": {},
     "output_type": "execute_result"
    }
   ],
   "source": [
    "AsymEig.values"
   ]
  },
  {
   "cell_type": "code",
   "execution_count": 19,
   "metadata": {},
   "outputs": [
    {
     "data": {
      "text/plain": [
       "3×3 Array{Float64,2}:\n",
       "  0.114894   0.93715   0.329469\n",
       " -0.705558  -0.156486  0.691159\n",
       "  0.699277  -0.311869  0.643234"
      ]
     },
     "execution_count": 19,
     "metadata": {},
     "output_type": "execute_result"
    }
   ],
   "source": [
    "AsymEig.vectors"
   ]
  },
  {
   "cell_type": "markdown",
   "metadata": {},
   "source": [
    "Once again, when the factorization is stored in a type, we can dispatch on it adn write\n",
    "specialized methods that exploit the properties of the factorization, e.g. that\n",
    "$A^{-1}=(V\\Lambda V^{-1})^{-1}=V\\Lambda^{-1}V^{-1}$."
   ]
  },
  {
   "cell_type": "code",
   "execution_count": 20,
   "metadata": {},
   "outputs": [
    {
     "data": {
      "text/plain": [
       "3×3 Array{Float64,2}:\n",
       "  1.0           7.10543e-15  -9.76996e-15\n",
       " -8.18789e-16   1.0          -5.27356e-16\n",
       " -3.16414e-15  -5.32907e-15   1.0"
      ]
     },
     "execution_count": 20,
     "metadata": {},
     "output_type": "execute_result"
    }
   ],
   "source": [
    "inv(AsymEig)*Asym"
   ]
  },
  {
   "cell_type": "markdown",
   "metadata": {},
   "source": [
    "## Special matrix structures\n",
    "Matrix structure is very important in linear algebra. To see *how* important it is, let's\n",
    "work with a larget linear system"
   ]
  },
  {
   "cell_type": "code",
   "execution_count": 21,
   "metadata": {},
   "outputs": [
    {
     "data": {
      "text/plain": [
       "1000×1000 Array{Float64,2}:\n",
       " -0.2105     0.690911    0.0280421  …  -0.40948    -0.735993   -0.305073\n",
       "  0.42116    0.282775   -0.927357      -0.0961538   0.306781    0.333317\n",
       "  1.21697   -0.0752656  -1.94365        1.729      -1.33497    -0.970065\n",
       "  0.587659  -0.218256    1.21662       -0.69356    -0.154198    0.817533\n",
       "  0.565494   1.90336    -0.765603      -2.09256     1.34165     0.465241\n",
       "  0.650137   1.64735    -1.50646    …   0.0322347   0.187132   -1.0564\n",
       " -0.400634   0.699374   -0.563624       0.268268   -0.830275    0.407389\n",
       "  2.21067   -0.758621   -1.26061       -0.321963    1.53824     0.597627\n",
       " -0.799919   0.484509   -1.29577        2.08704     0.617655   -2.05338\n",
       "  1.54291    0.452194   -0.721794       1.4263      0.762325   -2.18277\n",
       "  1.17783   -0.238487    1.16121    …   1.17105     1.6851     -0.913216\n",
       " -0.215922  -0.495221   -2.73871        0.654477    1.47817     1.16613\n",
       "  1.42271    1.18497    -0.604203       1.20841     0.569446   -0.282851\n",
       "  ⋮                                 ⋱                          \n",
       "  1.82544    1.75307     1.17652        1.45554    -0.728833    0.904991\n",
       " -0.905814  -1.48151     0.938484       0.831357   -0.741428   -0.014171\n",
       " -0.966161   0.749986    1.89937    …  -1.48677    -0.283083   -0.215103\n",
       "  0.672964   0.763881    1.0259        -0.386275   -0.677386    0.815528\n",
       " -1.43305   -0.740046    0.0946254     -0.723466   -1.83422     0.756335\n",
       " -0.78569    0.5725     -0.966351      -0.884441    0.061861   -0.105765\n",
       "  1.39309   -1.87674     0.677757      -0.436213    0.0898389   2.04838\n",
       " -0.50775   -1.64085     0.542178   …   0.678748   -0.4726      0.260597\n",
       " -0.392655  -1.23299    -1.37383        0.284289   -0.676452    1.26133\n",
       " -1.28378    0.35882     0.173429      -1.5797     -0.351493    0.244788\n",
       "  1.60928   -1.64629    -1.10568        0.834743   -1.82452     0.314275\n",
       " -0.758267   0.0183789   0.755376      -0.978279    1.19114     0.500574"
      ]
     },
     "execution_count": 21,
     "metadata": {},
     "output_type": "execute_result"
    }
   ],
   "source": [
    "n = 1000\n",
    "A = randn(n, n)"
   ]
  },
  {
   "cell_type": "markdown",
   "metadata": {},
   "source": [
    "Julia can often infer special matrix structure"
   ]
  },
  {
   "cell_type": "code",
   "execution_count": 22,
   "metadata": {},
   "outputs": [
    {
     "data": {
      "text/plain": [
       "true"
      ]
     },
     "execution_count": 22,
     "metadata": {},
     "output_type": "execute_result"
    }
   ],
   "source": [
    "Asym = A + A'\n",
    "issymmetric(Asym)"
   ]
  },
  {
   "cell_type": "markdown",
   "metadata": {},
   "source": [
    "but sometimes floating point error might get in the way."
   ]
  },
  {
   "cell_type": "code",
   "execution_count": 23,
   "metadata": {},
   "outputs": [
    {
     "data": {
      "text/plain": [
       "1.1120709456974636"
      ]
     },
     "execution_count": 23,
     "metadata": {},
     "output_type": "execute_result"
    }
   ],
   "source": [
    "Asym_noisy = copy(Asym)\n",
    "Asym_noisy[1,2] += 5eps()"
   ]
  },
  {
   "cell_type": "code",
   "execution_count": 24,
   "metadata": {},
   "outputs": [
    {
     "data": {
      "text/plain": [
       "false"
      ]
     },
     "execution_count": 24,
     "metadata": {},
     "output_type": "execute_result"
    }
   ],
   "source": [
    "issymmetric(Asym_noisy)"
   ]
  },
  {
   "cell_type": "markdown",
   "metadata": {},
   "source": [
    "Luckily we can declare structure explicitly with, for example, `Diagonal`, `Triangular`,\n",
    "`Symmetric`, `Hermitian`, `Tridiagonal` and `Symtridiagonal`."
   ]
  },
  {
   "cell_type": "code",
   "execution_count": 25,
   "metadata": {},
   "outputs": [
    {
     "data": {
      "text/plain": [
       "1000×1000 Symmetric{Float64,Array{Float64,2}}:\n",
       " -0.421001   1.11207     1.24501   …  -1.69326     0.873282   -1.06334\n",
       "  1.11207    0.56555    -1.00262       0.262666   -1.33951     0.351696\n",
       "  1.24501   -1.00262    -3.88729       1.90243    -2.44065    -0.214689\n",
       " -0.467957  -0.0807692   0.288849     -1.02258    -0.521146    1.05898\n",
       "  2.62082    2.99861    -0.708128     -3.28586     0.815212   -0.776936\n",
       "  0.27378    1.41634    -0.936489  …   0.506499    0.156327   -0.889031\n",
       " -0.30084    1.1133     -1.15133       0.46612    -1.09929     0.806152\n",
       "  2.04773   -1.92828    -2.41109      -0.368349    1.53299     2.04258\n",
       " -1.04282    2.05582    -2.09902       2.93154     1.98697    -3.0797\n",
       "  1.92111   -0.668241   -2.53191       1.39591     1.27704    -2.80468\n",
       "  1.65509    0.445716    1.54423   …   0.486645    2.9252     -1.70175\n",
       " -0.497576  -0.616557   -2.01176       0.710395    1.27049     0.253761\n",
       "  2.49077    0.0961056   0.106468      2.34851     1.54613    -0.248951\n",
       "  ⋮                                ⋱                          \n",
       "  1.29917    1.34326     2.43559       1.63523    -1.14746     0.602784\n",
       " -0.8347    -3.40299     2.0579       -1.18604    -0.0709173  -0.31858\n",
       "  1.00512   -0.394035    1.066     …   0.331216   -1.2534     -0.794756\n",
       "  2.70168   -1.14925     2.3192       -0.294094    0.759433    1.4483\n",
       " -1.81421   -1.39283    -0.437585     -1.28255    -1.1188      1.78925\n",
       " -1.7694     0.38435    -1.45411       0.263603   -0.0921943  -1.22195\n",
       "  3.97039   -3.82057    -0.87735      -0.0473995   0.685911    3.94846\n",
       "  0.452202  -1.2988      2.51204   …  -0.355926   -2.46242     0.615661\n",
       "  0.326179  -0.346764   -1.21013       2.21273    -0.182919   -0.970423\n",
       " -1.69326    0.262666    1.90243      -3.1594      0.483249   -0.733491\n",
       "  0.873282  -1.33951    -2.44065       0.483249   -3.64905     1.50542\n",
       " -1.06334    0.351696   -0.214689     -0.733491    1.50542     1.00115"
      ]
     },
     "execution_count": 25,
     "metadata": {},
     "output_type": "execute_result"
    }
   ],
   "source": [
    "Asym_explicit = Symmetric(Asym_noisy)"
   ]
  },
  {
   "cell_type": "markdown",
   "metadata": {},
   "source": [
    "Let's compare how long it takes Julia to compute the eigenvalues of `Asym`, `Asym_noisy`,\n",
    "and `Asym_explicit`"
   ]
  },
  {
   "cell_type": "code",
   "execution_count": 26,
   "metadata": {},
   "outputs": [
    {
     "name": "stdout",
     "output_type": "stream",
     "text": [
      "  0.220003 seconds (168.06 k allocations: 16.063 MiB, 24.22% gc time)\n"
     ]
    },
    {
     "data": {
      "text/plain": [
       "1000-element Array{Float64,1}:\n",
       " -88.87855326630375\n",
       " -88.35854853140344\n",
       " -87.68139016918622\n",
       " -87.03291788599472\n",
       " -86.12750825329529\n",
       " -85.56115275935016\n",
       " -85.2186456395332\n",
       " -84.93673819183122\n",
       " -84.46384808158949\n",
       " -83.9010605476811\n",
       " -83.6370493026508\n",
       " -82.90307578795239\n",
       " -82.69950122550239\n",
       "   ⋮\n",
       "  82.74966968566332\n",
       "  83.23570128858833\n",
       "  83.54812577452626\n",
       "  84.22781946566788\n",
       "  84.29657944874221\n",
       "  84.45476861198196\n",
       "  85.89302616850334\n",
       "  86.12689386764114\n",
       "  86.6809000170313\n",
       "  86.98688441077704\n",
       "  87.97591296382862\n",
       "  89.20913681084022"
      ]
     },
     "execution_count": 26,
     "metadata": {},
     "output_type": "execute_result"
    }
   ],
   "source": [
    "@time eigvals(Asym)"
   ]
  },
  {
   "cell_type": "code",
   "execution_count": 27,
   "metadata": {},
   "outputs": [
    {
     "name": "stdout",
     "output_type": "stream",
     "text": [
      "  0.452948 seconds (14 allocations: 7.921 MiB)\n"
     ]
    },
    {
     "data": {
      "text/plain": [
       "1000-element Array{Float64,1}:\n",
       " -88.8785532663048\n",
       " -88.35854853140374\n",
       " -87.68139016918917\n",
       " -87.03291788599566\n",
       " -86.12750825329675\n",
       " -85.5611527593505\n",
       " -85.21864563953417\n",
       " -84.9367381918315\n",
       " -84.4638480815898\n",
       " -83.90106054768158\n",
       " -83.63704930265048\n",
       " -82.90307578795226\n",
       " -82.69950122550291\n",
       "   ⋮\n",
       "  82.7496696856632\n",
       "  83.23570128858857\n",
       "  83.54812577452591\n",
       "  84.22781946566694\n",
       "  84.29657944874128\n",
       "  84.45476861198262\n",
       "  85.89302616850344\n",
       "  86.12689386764124\n",
       "  86.68090001703303\n",
       "  86.98688441077806\n",
       "  87.97591296382905\n",
       "  89.20913681084107"
      ]
     },
     "execution_count": 27,
     "metadata": {},
     "output_type": "execute_result"
    }
   ],
   "source": [
    "@time eigvals(Asym_noisy)"
   ]
  },
  {
   "cell_type": "code",
   "execution_count": 28,
   "metadata": {},
   "outputs": [
    {
     "name": "stdout",
     "output_type": "stream",
     "text": [
      "  0.065175 seconds (6.70 k allocations: 8.324 MiB)\n"
     ]
    },
    {
     "data": {
      "text/plain": [
       "1000-element Array{Float64,1}:\n",
       " -88.87855326630458\n",
       " -88.35854853140381\n",
       " -87.68139016918693\n",
       " -87.03291788599378\n",
       " -86.12750825329526\n",
       " -85.56115275934964\n",
       " -85.21864563953275\n",
       " -84.93673819183181\n",
       " -84.46384808158963\n",
       " -83.90106054768061\n",
       " -83.6370493026514\n",
       " -82.90307578795289\n",
       " -82.6995012255026\n",
       "   ⋮\n",
       "  82.74966968566368\n",
       "  83.23570128858897\n",
       "  83.54812577452631\n",
       "  84.22781946566731\n",
       "  84.2965794487416\n",
       "  84.45476861198233\n",
       "  85.893026168503\n",
       "  86.12689386764103\n",
       "  86.68090001703179\n",
       "  86.98688441077653\n",
       "  87.9759129638287\n",
       "  89.20913681084099"
      ]
     },
     "execution_count": 28,
     "metadata": {},
     "output_type": "execute_result"
    }
   ],
   "source": [
    "@time eigvals(Asym_explicit)"
   ]
  },
  {
   "cell_type": "markdown",
   "metadata": {},
   "source": [
    "In this example, using `Symmetric()` on `Asym_noisy` made our calculations about `5x` more\n",
    "efficient :)"
   ]
  },
  {
   "cell_type": "markdown",
   "metadata": {},
   "source": [
    "#### A big problem\n",
    "Using the `Tridiagonal` and `Symtridiagonal` types to store tridiagonal matrices makes it\n",
    "possible to work with potentially very large tridiagonal problems. The following problem\n",
    "would not be possible to solve on a laptop if the matrix had to be stored as a (dense)\n",
    "`Matrix` types."
   ]
  },
  {
   "cell_type": "code",
   "execution_count": 30,
   "metadata": {},
   "outputs": [
    {
     "name": "stdout",
     "output_type": "stream",
     "text": [
      "  0.591469 seconds (470.10 k allocations: 206.678 MiB, 1.43% gc time)\n"
     ]
    },
    {
     "data": {
      "text/plain": [
       "6.5659533952760505"
      ]
     },
     "execution_count": 30,
     "metadata": {},
     "output_type": "execute_result"
    }
   ],
   "source": [
    "n = 1_000_000\n",
    "A = SymTridiagonal(randn(n), randn(n-1))\n",
    "@time eigmax(A)"
   ]
  },
  {
   "cell_type": "markdown",
   "metadata": {},
   "source": [
    "## Generic linear algebra\n",
    "The usual way of adding support for numerical linear algebra is by wrapping BLAS and\n",
    "LAPACK subroutines. For matrices with elements of `Float32`, `Float64`, `Complex{Float32}`\n",
    "or `Complex{Float64}` this is also what Julia does.\n",
    "\n",
    "However, Julia also supports generic linear algebra, allowing you to, for example, work\n",
    "with matrices and vectors of rational numbers."
   ]
  },
  {
   "cell_type": "markdown",
   "metadata": {},
   "source": [
    "#### Rational numbers\n",
    "julia has rational numbers built in. To construct a rational number, use double forward slashes:"
   ]
  },
  {
   "cell_type": "code",
   "execution_count": 31,
   "metadata": {},
   "outputs": [
    {
     "data": {
      "text/plain": [
       "1//2"
      ]
     },
     "execution_count": 31,
     "metadata": {},
     "output_type": "execute_result"
    }
   ],
   "source": [
    "1//2"
   ]
  },
  {
   "cell_type": "markdown",
   "metadata": {},
   "source": [
    "#### Example: Rational linear system of equations\n",
    "The following example shows how linear system of equations with rational elements can be \n",
    "solved without promoting to floating point element types. Overflow can easily become a \n",
    "problem when working with rational numbers so we use `BigInt`s."
   ]
  },
  {
   "cell_type": "code",
   "execution_count": 32,
   "metadata": {},
   "outputs": [
    {
     "data": {
      "text/plain": [
       "3×3 Array{Rational{BigInt},2}:\n",
       " 7//10  1//10  3//5\n",
       " 3//10  1//10  1//2\n",
       " 9//10  1//1   3//10"
      ]
     },
     "execution_count": 32,
     "metadata": {},
     "output_type": "execute_result"
    }
   ],
   "source": [
    "Arational = Matrix{Rational{BigInt}}(rand(1:10, 3, 3))/10"
   ]
  },
  {
   "cell_type": "code",
   "execution_count": 33,
   "metadata": {},
   "outputs": [
    {
     "data": {
      "text/plain": [
       "3-element Array{Rational{BigInt},1}:\n",
       "  7//5\n",
       "  9//10\n",
       " 11//5"
      ]
     },
     "execution_count": 33,
     "metadata": {},
     "output_type": "execute_result"
    }
   ],
   "source": [
    "x = fill(1, 3)\n",
    "b = Arational*x"
   ]
  },
  {
   "cell_type": "code",
   "execution_count": 34,
   "metadata": {},
   "outputs": [
    {
     "data": {
      "text/plain": [
       "3-element Array{Rational{BigInt},1}:\n",
       " 1//1\n",
       " 1//1\n",
       " 1//1"
      ]
     },
     "execution_count": 34,
     "metadata": {},
     "output_type": "execute_result"
    }
   ],
   "source": [
    "Arational\\b"
   ]
  },
  {
   "cell_type": "code",
   "execution_count": 35,
   "metadata": {},
   "outputs": [
    {
     "data": {
      "text/plain": [
       "LU{Rational{BigInt},Array{Rational{BigInt},2}}\n",
       "L factor:\n",
       "3×3 Array{Rational{BigInt},2}:\n",
       " 1//1   0//1   0//1\n",
       " 7//9   1//1   0//1\n",
       " 1//3  21//61  1//1\n",
       "U factor:\n",
       "3×3 Array{Rational{BigInt},2}:\n",
       " 9//10    1//1     3//10\n",
       " 0//1   -61//90   11//30\n",
       " 0//1     0//1   167//610"
      ]
     },
     "execution_count": 35,
     "metadata": {},
     "output_type": "execute_result"
    }
   ],
   "source": [
    "lu(Arational)"
   ]
  },
  {
   "cell_type": "markdown",
   "metadata": {},
   "source": [
    "#### Exercises\n",
    "\n",
    "#### 11.1\n",
    "What are the eigenvalues of matrix A?\n",
    "```\n",
    "A = \n",
    "[\n",
    "  140   97   74  168  131\n",
    "  97  106   89  131   36\n",
    "   74   89  152  144   71\n",
    "  168  131  144   54  142\n",
    "  131   36   71  142   36\n",
    "]\n",
    "```\n",
    "and assign it a variable `A_eigv`"
   ]
  },
  {
   "cell_type": "code",
   "execution_count": 1,
   "metadata": {},
   "outputs": [],
   "source": [
    "using LinearAlgebra"
   ]
  },
  {
   "cell_type": "code",
   "execution_count": 2,
   "metadata": {},
   "outputs": [
    {
     "data": {
      "text/plain": [
       "5×5 Array{Int64,2}:\n",
       " 140   97   74  168  131\n",
       "  97  106   89  131   36\n",
       "  74   89  152  144   71\n",
       " 168  131  144   54  142\n",
       " 131   36   71  142   36"
      ]
     },
     "execution_count": 2,
     "metadata": {},
     "output_type": "execute_result"
    }
   ],
   "source": [
    "A = \n",
    "[\n",
    "  140   97   74  168  131\n",
    "  97  106   89  131   36\n",
    "   74   89  152  144   71\n",
    "  168  131  144   54  142\n",
    "  131   36   71  142   36\n",
    "]"
   ]
  },
  {
   "cell_type": "code",
   "execution_count": 3,
   "metadata": {},
   "outputs": [
    {
     "data": {
      "text/plain": [
       "5-element Array{Float64,1}:\n",
       " -128.49322764802145\n",
       "  -55.887784553056875\n",
       "   42.7521672793189\n",
       "   87.16111477514521\n",
       "  542.4677301466143"
      ]
     },
     "execution_count": 3,
     "metadata": {},
     "output_type": "execute_result"
    }
   ],
   "source": [
    "A_eigv = eigvals(A)"
   ]
  },
  {
   "cell_type": "code",
   "execution_count": 4,
   "metadata": {},
   "outputs": [],
   "source": [
    "@assert A_eigv ==  [-128.49322764802145, -55.887784553056875, 42.7521672793189, 87.16111477514521, 542.4677301466143]"
   ]
  },
  {
   "cell_type": "markdown",
   "metadata": {},
   "source": [
    "#### 11.2\n",
    "Create a `Diagonal` matrix from the eigenvalues of `A`."
   ]
  },
  {
   "cell_type": "code",
   "execution_count": 5,
   "metadata": {},
   "outputs": [
    {
     "data": {
      "text/plain": [
       "5×5 Diagonal{Float64,Array{Float64,1}}:\n",
       " -128.493     ⋅        ⋅        ⋅         ⋅ \n",
       "     ⋅     -55.8878    ⋅        ⋅         ⋅ \n",
       "     ⋅        ⋅      42.7522    ⋅         ⋅ \n",
       "     ⋅        ⋅        ⋅      87.1611     ⋅ \n",
       "     ⋅        ⋅        ⋅        ⋅      542.468"
      ]
     },
     "execution_count": 5,
     "metadata": {},
     "output_type": "execute_result"
    }
   ],
   "source": [
    "A_diag = Diagonal(A_eigv)"
   ]
  },
  {
   "cell_type": "code",
   "execution_count": 8,
   "metadata": {},
   "outputs": [
    {
     "ename": "AssertionError",
     "evalue": "AssertionError: A_diag == [-128.493 0.0 0.0 0.0 0.0; 0.0 -55.8878 0.0 0.0 0.0; 0.0 0.0 42.7522 0.0 0.0; 0.0 0.0 0.0 87.1611 0.0; 0.0 0.0 0.0 0.0 542.468]",
     "output_type": "error",
     "traceback": [
      "AssertionError: A_diag == [-128.493 0.0 0.0 0.0 0.0; 0.0 -55.8878 0.0 0.0 0.0; 0.0 0.0 42.7522 0.0 0.0; 0.0 0.0 0.0 87.1611 0.0; 0.0 0.0 0.0 0.0 542.468]",
      "",
      "Stacktrace:",
      " [1] top-level scope at In[8]:1"
     ]
    }
   ],
   "source": [
    "@assert A_diag ==  [-128.493    0.0      0.0      0.0       0.0\n",
    "    0.0    -55.8878   0.0      0.0       0.0\n",
    "    0.0      0.0     42.7522   0.0       0.0\n",
    "    0.0      0.0      0.0     87.1611    0.0\n",
    "    0.0 0.0      0.0      0.0     542.468]"
   ]
  },
  {
   "cell_type": "markdown",
   "metadata": {},
   "source": [
    "#### 11.3\n",
    "Create a `LowerTriangluar` matrix from `A` and store it in `A-lowertri`"
   ]
  },
  {
   "cell_type": "code",
   "execution_count": 9,
   "metadata": {},
   "outputs": [
    {
     "data": {
      "text/plain": [
       "5×5 LowerTriangular{Int64,Array{Int64,2}}:\n",
       " 140    ⋅    ⋅    ⋅   ⋅\n",
       "  97  106    ⋅    ⋅   ⋅\n",
       "  74   89  152    ⋅   ⋅\n",
       " 168  131  144   54   ⋅\n",
       " 131   36   71  142  36"
      ]
     },
     "execution_count": 9,
     "metadata": {},
     "output_type": "execute_result"
    }
   ],
   "source": [
    "A_lowertri = LowerTriangular(A)"
   ]
  },
  {
   "cell_type": "code",
   "execution_count": 10,
   "metadata": {},
   "outputs": [],
   "source": [
    "@assert A_lowertri ==  [140    0    0    0   0\n",
    "  97  106    0    0   0\n",
    "  74   89  152    0   0\n",
    " 168  131  144   54   0\n",
    " 131   36   71  142  36]"
   ]
  },
  {
   "cell_type": "markdown",
   "metadata": {},
   "source": [
    "### Please let us know how we're doing!\n",
    "https://tinyurl.com/introJuliaFeedback"
   ]
  },
  {
   "cell_type": "code",
   "execution_count": null,
   "metadata": {},
   "outputs": [],
   "source": []
  }
 ],
 "metadata": {
  "kernelspec": {
   "display_name": "Julia 1.4.2",
   "language": "julia",
   "name": "julia-1.4"
  },
  "language_info": {
   "file_extension": ".jl",
   "mimetype": "application/julia",
   "name": "julia",
   "version": "1.4.2"
  }
 },
 "nbformat": 4,
 "nbformat_minor": 2
}
